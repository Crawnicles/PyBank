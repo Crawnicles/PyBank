{
 "cells": [
  {
   "cell_type": "code",
   "execution_count": null,
   "source": [
    "# PyBank\n",
    "# Import a csv, read it, arrange it into three lists, find maximum and minimum of list, \n",
    "\n",
    "from pathlib import Path\n",
    "import csv\n",
    "csvpath = Path(\"/Users/andrewcrawford/Desktop/python-homework/budget_data.csv\")\n",
    "\n",
    "#Read budget_data.csv\n",
    "with open(csvpath, 'r') as csvfile:  \n",
    "    csvreader = csv.reader(csvfile, delimiter = ',')\n",
    "    #Read the data after the header\n",
    "    header = next(csvreader)\n",
    "    #Initialize variables\n",
    "    month_count = [] #Left most column\n",
    "    pnl = [] #Middle column\n",
    "    pnl_diff = [] #Right most column\n",
    "    \n",
    "                      \n",
    "    #iterate through the values and add them to the lists\n",
    "    for row in csvreader:\n",
    "        month_count.append(row[0]) #adding a month_counter\n",
    "        pnl.append(int(row[1])) #turning Profit/Losses column to integer and adding new column\n",
    "    for i in range(len(pnl)-1): #for each entry 'i' in pnl , append pnl_diff with the value pnl[1] - pnl[0], etc\n",
    "        pnl_diff.append(pnl[i+1]-pnl[i])\n",
    "                      \n",
    "#evaluate the max and min from the list made\n",
    "increase = max(pnl_diff)\n",
    "decrease = min(pnl_diff)\n",
    "\n",
    "#Get the index of the maximum and minimum values in pnl_diff and add one to align the month index\n",
    "month_increase = pnl_diff.index(max(pnl_diff))+1\n",
    "month_decrease = pnl_diff.index(min(pnl_diff))+1\n",
    "\n",
    "print(\"Financial Analysis\")\n",
    "print(\"------------------------\")\n",
    "print(f\"Total Months:{len(month_count)}\")\n",
    "print(f\"Total: ${sum(pnl)}\")\n",
    "print(f\"Average Change: {round(sum(pnl_diff)/len(pnl_diff),2)}\")\n",
    "print(f\"Greatest Increase in Profits: {month_count[month_increase]} (${(str(increase))})\")\n",
    "print(f\"Greatest Decrease in Profits: {month_count[month_decrease]} (${(str(decrease))})\")      \n",
    "\n",
    "output = Path(\"/Users/andrewcrawford/Desktop/python-homework/output.txt\")\n",
    "with open(output,\"w\") as new:\n",
    "    new.write(\"\\nFinancial Analysis\")\n",
    "    new.write(\"\\n------------------------\")\n",
    "    new.write(f\"\\nTotal Months:{len(month_count)}\")\n",
    "    new.write(f\"\\nTotal: ${sum(pnl)}\")\n",
    "    new.write(f\"\\nAverage Change: {round(sum(pnl_diff)/len(pnl_diff),2)}\")\n",
    "    new.write(f\"\\nGreatest Increase in Profits: {month_count[month_increase]} (${(str(increase))})\")\n",
    "    new.write(f\"\\nGreatest Decrease in Profits: {month_count[month_decrease]} (${(str(decrease))})\")"
   ],
   "outputs": [],
   "metadata": {}
  }
 ],
 "metadata": {
  "kernelspec": {
   "display_name": "Python 3 (ipykernel)",
   "language": "python",
   "name": "python3"
  },
  "language_info": {
   "codemirror_mode": {
    "name": "ipython",
    "version": 3
   },
   "file_extension": ".py",
   "mimetype": "text/x-python",
   "name": "python",
   "nbconvert_exporter": "python",
   "pygments_lexer": "ipython3",
   "version": "3.8.8"
  }
 },
 "nbformat": 4,
 "nbformat_minor": 5
}